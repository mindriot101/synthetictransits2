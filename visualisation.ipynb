{
 "cells": [
  {
   "cell_type": "code",
   "execution_count": 38,
   "metadata": {
    "collapsed": false
   },
   "outputs": [
    {
     "name": "stdout",
     "output_type": "stream",
     "text": [
      "Populating the interactive namespace from numpy and matplotlib\n"
     ]
    },
    {
     "name": "stderr",
     "output_type": "stream",
     "text": [
      "WARNING: pylab import has clobbered these variables: ['axes', 'axis']\n",
      "`%matplotlib` prevents importing * from pylab and numpy\n"
     ]
    }
   ],
   "source": [
    "%pylab inline\n",
    "import fitsio\n",
    "from collections import namedtuple\n",
    "from itertools import islice\n",
    "from scipy.stats import binned_statistic\n",
    "\n",
    "plt.style.use(['ggplot', 'seaborn-talk'])"
   ]
  },
  {
   "cell_type": "code",
   "execution_count": 39,
   "metadata": {
    "collapsed": true
   },
   "outputs": [],
   "source": [
    "fname = 'out.fits'\n",
    "\n",
    "infile = fitsio.FITS(fname)    "
   ]
  },
  {
   "cell_type": "code",
   "execution_count": 40,
   "metadata": {
    "collapsed": true
   },
   "outputs": [],
   "source": [
    "catalogue = infile['CATALOGUE'].read()"
   ]
  },
  {
   "cell_type": "code",
   "execution_count": 41,
   "metadata": {
    "collapsed": false
   },
   "outputs": [
    {
     "name": "stdout",
     "output_type": "stream",
     "text": [
      "[ (b'000008', 1.4205834865570068, -0.4169256389141083, 7314.89306640625, 0, 551.5742797851562, 0.8733820915222168, nan, nan, nan, nan, 0, 0, 0.0, [0.0, 0.0, 0.0], 0, b'', 0, 0.0, 0.0, 0.0, 0.0, 0.0, 0.0, 0.0, 0.0)\n",
      " (b'000010', 1.4324060678482056, -0.4167901575565338, 6723.4501953125, 0, 105.51123046875, 0.9569383263587952, nan, nan, nan, nan, 0, 0, 0.0, [0.0, 0.0, 0.0], 0, b'', 0, 0.0, 0.0, 0.0, 0.0, 0.0, 0.0, 0.0, 0.0)\n",
      " (b'000013', 1.4253469705581665, -0.41687023639678955, 6965.8720703125, 0, 372.386962890625, 0.8832467794418335, nan, nan, nan, nan, 0, 0, 0.0, [0.0, 0.0, 0.0], 0, b'', 0, 0.0, 0.0, 0.0, 0.0, 0.0, 0.0, 0.0, 0.0)\n",
      " (b'000021', 1.400317907333374, -0.4171602129936218, 24545.091796875, 0, 1310.7181396484375, 1.0302526950836182, nan, nan, nan, nan, 0, 0, 0.0, [0.0, 0.0, 0.0], 0, b'', 0, 0.0, 0.0, 0.0, 0.0, 0.0, 0.0, 0.0, 0.0)\n",
      " (b'000031', 1.407153606414795, -0.4171071946620941, 9367.658203125, -1, 1054.77978515625, 2.0005569458007812, 67.98377227783203, 3.8261489868164062, -4.583885192871094, 0.06107085570693016, 7, 0, 0.0, [-0.044784121215343475, -0.0035440789069980383, 0.0003859112912323326], 1, b'', 0, 0.0, 0.0, 0.0, 0.0, 0.0, 0.0, 0.0, 0.0)]\n"
     ]
    }
   ],
   "source": [
    "print(catalogue[:5])"
   ]
  },
  {
   "cell_type": "code",
   "execution_count": 42,
   "metadata": {
    "collapsed": true
   },
   "outputs": [],
   "source": [
    "jd_ref = 2456658.500000\n",
    "def wd2jd(wd):\n",
    "    return (wd / 86400.) + jd_ref\n",
    "\n",
    "def jd2wd(jd):\n",
    "    return (jd - jd_ref) * 86400.\n",
    "\n",
    "assert isclose(wd2jd(jd2wd(20185)), 20185)"
   ]
  },
  {
   "cell_type": "markdown",
   "metadata": {},
   "source": [
    "Synthetic objects have populated TRANS_PERIOD columns"
   ]
  },
  {
   "cell_type": "code",
   "execution_count": 43,
   "metadata": {
    "collapsed": true
   },
   "outputs": [],
   "source": [
    "fake_ind = catalogue['TRANS_PERIOD'] != 0.\n",
    "fake_catalogue = catalogue[fake_ind]"
   ]
  },
  {
   "cell_type": "code",
   "execution_count": 44,
   "metadata": {
    "collapsed": false
   },
   "outputs": [
    {
     "data": {
      "text/plain": [
       "('OBJ_ID',\n",
       " 'RA',\n",
       " 'DEC',\n",
       " 'REF_FLUX',\n",
       " 'CLASS',\n",
       " 'CCD_X',\n",
       " 'CCD_Y',\n",
       " 'FLUX_MEAN',\n",
       " 'FLUX_RMS',\n",
       " 'MAG_MEAN',\n",
       " 'MAG_RMS',\n",
       " 'NPTS',\n",
       " 'NPTS_CLIPPED',\n",
       " 'SIGMA_XS',\n",
       " 'CI',\n",
       " 'IS_STD',\n",
       " 'REAL_OBJ_ID',\n",
       " 'SKIPDET',\n",
       " 'TRANS_PERIOD',\n",
       " 'TRANS_WIDTH',\n",
       " 'TRANS_DEPTH',\n",
       " 'TRANS_EPOCH',\n",
       " 'TRANS_RP',\n",
       " 'TRANS_RS',\n",
       " 'TRANS_A',\n",
       " 'TRANS_I')"
      ]
     },
     "execution_count": 44,
     "metadata": {},
     "output_type": "execute_result"
    }
   ],
   "source": [
    "fake_catalogue.dtype.names"
   ]
  },
  {
   "cell_type": "code",
   "execution_count": 45,
   "metadata": {
    "collapsed": true
   },
   "outputs": [],
   "source": [
    "Lightcurve = namedtuple('Lightcurve', 'phase flux')"
   ]
  },
  {
   "cell_type": "raw",
   "metadata": {
    "collapsed": false
   },
   "source": [
    "class LightcurveFetcher(object):\n",
    "    def __init__(self, infile):\n",
    "        self.infile = infile\n",
    "        self.catalogue = self.infile['CATALOGUE'].read()\n",
    "        self.obj_id = self.catalogue['OBJ_ID']\n",
    "        self.fake_indices = set(np.where(self.catalogue['TRANS_PERIOD'] != 0.0)[0])\n",
    "        \n",
    "    def _fake_lightcurve_indices(self, obj_id):\n",
    "        ind = np.where((self.obj_id == obj_id))[0]\n",
    "        return np.array([i for i in ind if i in self.fake_indices])\n",
    "    \n",
    "    def _real_lightcurve_index(self, obj_id):\n",
    "        ind = np.where((self.obj_id == obj_id))[0]\n",
    "        inds = [i for i in ind if i not in self.fake_indices]\n",
    "        if len(inds) == 1:\n",
    "            return inds[0]\n",
    "        else:\n",
    "            raise ValueError(\"Funky shit\")\n",
    "            \n",
    "    def indices(self, obj_id):\n",
    "        yield self._real_lightcurve_index(obj_id)\n",
    "        for index in self._fake_lightcurve_indices(obj_id):\n",
    "            yield index\n",
    "            \n",
    "    def timeseries(self, index, hdu_name):\n",
    "         return self.infile[hdu_name][index:index + 1, :].ravel()\n",
    "        \n",
    "    def lightcurve(self, index):\n",
    "        time = self.timeseries(index, 'HJD')\n",
    "        flux = self.timeseries(index, 'FLUX')\n",
    "        cat_entry = self.catalogue[index]\n",
    "        period = cat_entry['TRANS_PERIOD']\n",
    "        epoch = cat_entry['TRANS_EPOCH']\n",
    "        phase = ((time - epoch) / period) % 1\n",
    "        return Lightcurve(phase, flux)\n",
    "\n",
    "obj_id = b'010031'\n",
    "lcf = LightcurveFetcher(infile)\n",
    "fig, axes = plt.subplots(3, 1, sharex=True)\n",
    "for index, axis in zip(lcf.indices(obj_id), axes):\n",
    "    lightcurve = lcf.lightcurve(index)\n",
    "    phase = lightcurve.phase\n",
    "    phase[phase > 0.8] -= 0.2\n",
    "    \n",
    "    ind = flux > 100\n",
    "    axis.plot(phase[ind], lightcurve.flux[ind], '.')"
   ]
  },
  {
   "cell_type": "markdown",
   "metadata": {},
   "source": [
    "We start by looking at fairly obvious cases. Pick objects which should give transit depths of ~2% and with periods of ~5 days."
   ]
  },
  {
   "cell_type": "code",
   "execution_count": 46,
   "metadata": {
    "collapsed": true
   },
   "outputs": [],
   "source": [
    "fake_period = catalogue['TRANS_PERIOD'] / 86400.\n",
    "fake_depth = catalogue['TRANS_DEPTH']\n",
    "fake_width = catalogue['TRANS_WIDTH']"
   ]
  },
  {
   "cell_type": "code",
   "execution_count": 47,
   "metadata": {
    "collapsed": false
   },
   "outputs": [
    {
     "name": "stdout",
     "output_type": "stream",
     "text": [
      "5\n"
     ]
    },
    {
     "name": "stderr",
     "output_type": "stream",
     "text": [
      "/home/sw/work/NGTS/transit-injection/synthetic-transits/venv/lib/python3.5/site-packages/ipykernel/__main__.py:4: RuntimeWarning: invalid value encountered in true_divide\n",
      "/home/sw/work/NGTS/transit-injection/synthetic-transits/venv/lib/python3.5/site-packages/ipykernel/__main__.py:4: RuntimeWarning: invalid value encountered in greater\n"
     ]
    }
   ],
   "source": [
    "ind = np.where(\n",
    "    (fake_depth > 0.02) & (fake_depth < 0.03) &\n",
    "    (fake_period > 4) & (fake_period < 5) &\n",
    "    ((fake_width / fake_period) > 0.02)\n",
    "    )[0]\n",
    "assert ind.size\n",
    "print(ind.size)"
   ]
  },
  {
   "cell_type": "code",
   "execution_count": 48,
   "metadata": {
    "collapsed": false
   },
   "outputs": [
    {
     "name": "stdout",
     "output_type": "stream",
     "text": [
      "Chosen object b'F01311', period: 4.031503250945403, depth: 0.02470246338829432, index: 9816\n"
     ]
    }
   ],
   "source": [
    "chosen_ind = np.random.choice(ind)\n",
    "chosen_obj_id = catalogue['OBJ_ID'][chosen_ind]\n",
    "\n",
    "print('Chosen object {}, period: {}, depth: {}, index: {}'.format(chosen_obj_id, fake_period[chosen_ind], fake_depth[chosen_ind], chosen_ind))"
   ]
  },
  {
   "cell_type": "code",
   "execution_count": 67,
   "metadata": {
    "collapsed": false
   },
   "outputs": [],
   "source": [
    "real_obj_id = '{:06d}'.format(int(catalogue['REAL_OBJ_ID'][chosen_ind].decode('utf-8').strip())).encode('utf-8')"
   ]
  },
  {
   "cell_type": "code",
   "execution_count": 69,
   "metadata": {
    "collapsed": false
   },
   "outputs": [
    {
     "data": {
      "text/plain": [
       "True"
      ]
     },
     "execution_count": 69,
     "metadata": {},
     "output_type": "execute_result"
    }
   ],
   "source": [
    "(catalogue['OBJ_ID'] == real_obj_id).any()"
   ]
  },
  {
   "cell_type": "code",
   "execution_count": 71,
   "metadata": {
    "collapsed": false
   },
   "outputs": [],
   "source": [
    "real_ind = np.where(catalogue['OBJ_ID'] == real_obj_id)[0].min()"
   ]
  },
  {
   "cell_type": "code",
   "execution_count": 72,
   "metadata": {
    "collapsed": true
   },
   "outputs": [],
   "source": [
    "def transit_model(width, period, depth):\n",
    "    normwidth = width / period\n",
    "    xpoints = np.array([-0.2, -normwidth / 2., -normwidth / 2., normwidth / 2., normwidth / 2., 0.8])\n",
    "    ypoints = np.array([1., 1., 1. - depth, 1. - depth, 1., 1.])\n",
    "    return xpoints, ypoints"
   ]
  },
  {
   "cell_type": "code",
   "execution_count": 73,
   "metadata": {
    "collapsed": false
   },
   "outputs": [],
   "source": [
    "def get_by_ind(hdu, index):\n",
    "    return infile[hdu][index:index+1, :].ravel()"
   ]
  },
  {
   "cell_type": "code",
   "execution_count": 80,
   "metadata": {
    "collapsed": false
   },
   "outputs": [
    {
     "name": "stderr",
     "output_type": "stream",
     "text": [
      "/home/sw/work/NGTS/transit-injection/synthetic-transits/venv/lib/python3.5/site-packages/ipykernel/__main__.py:30: RuntimeWarning: divide by zero encountered in true_divide\n",
      "/home/sw/work/NGTS/transit-injection/synthetic-transits/venv/lib/python3.5/site-packages/ipykernel/__main__.py:30: RuntimeWarning: invalid value encountered in true_divide\n"
     ]
    },
    {
     "data": {
      "image/png": "[encoded data removed]",
      "text/plain": [
       "<matplotlib.figure.Figure at 0x7fa163273048>"
      ]
     },
     "metadata": {},
     "output_type": "display_data"
    }
   ],
   "source": [
    "hjd = get_by_ind(\"HJD\", chosen_ind)\n",
    "flux = get_by_ind(\"FLUX\", chosen_ind)\n",
    "\n",
    "xlims = (-0.1, 0.1)\n",
    "ylims = (0.9, 1.1)\n",
    "nplots = 2\n",
    "\n",
    "def med_in_plot(d):\n",
    "    ind = (d >= ylims[0]) & (d <= ylims[1])\n",
    "    return np.median(d[ind])\n",
    "\n",
    "fig, axes = plt.subplots(nplots, 1, sharex=True, sharey=True, figsize=(12, 5 * nplots))\n",
    "\n",
    "med_flux = np.median(flux)\n",
    "period = catalogue['TRANS_PERIOD'][chosen_ind]\n",
    "epoch = catalogue['TRANS_EPOCH'][chosen_ind]\n",
    "phase = ((hjd - epoch) / period) % 1\n",
    "phase[phase > 0.8] -= 1.0\n",
    "normflux = flux / med_flux\n",
    "axes[0].plot(phase, normflux, ',')\n",
    "by, bx, _ = binned_statistic(phase, normflux, bins=150, range=xlims, statistic=med_in_plot)\n",
    "bx = (bx[:-1] + bx[1:]) / 2.\n",
    "axes[0].plot(bx, by, '.')\n",
    "\n",
    "model_x, model_y = transit_model(catalogue['TRANS_WIDTH'][chosen_ind], catalogue['TRANS_PERIOD'][chosen_ind],\n",
    "                                 catalogue['TRANS_DEPTH'][chosen_ind])\n",
    "axes[0].plot(model_x, model_y)\n",
    "\n",
    "trueflux = get_by_ind(\"FLUX\", real_ind)\n",
    "lc_model = flux / trueflux\n",
    "axes[1].plot(phase, lc_model, ',')\n",
    "\n",
    "axes[0].set(ylabel='Altered lightcurve + model')\n",
    "axes[1].set(xlabel='Phase', ylabel='Synthetic model')\n",
    "\n",
    "for axis in axes:\n",
    "    axis.set(xlim=xlims, ylim=ylims)\n"
   ]
  },
  {
   "cell_type": "code",
   "execution_count": 78,
   "metadata": {
    "collapsed": true
   },
   "outputs": [],
   "source": [
    "ind = np.isfinite(lc_model)"
   ]
  },
  {
   "cell_type": "code",
   "execution_count": 79,
   "metadata": {
    "collapsed": false
   },
   "outputs": [
    {
     "data": {
      "text/plain": [
       "(0.9907279, 1.0000905)"
      ]
     },
     "execution_count": 79,
     "metadata": {},
     "output_type": "execute_result"
    }
   ],
   "source": [
    "lc_model[ind].min(), lc_model[ind].max()"
   ]
  }
 ],
 "metadata": {
  "kernelspec": {
   "display_name": "Python 3",
   "language": "python",
   "name": "python3"
  },
  "language_info": {
   "codemirror_mode": {
    "name": "ipython",
    "version": 3
   },
   "file_extension": ".py",
   "mimetype": "text/x-python",
   "name": "python",
   "nbconvert_exporter": "python",
   "pygments_lexer": "ipython3",
   "version": "3.5.1"
  }
 },
 "nbformat": 4,
 "nbformat_minor": 0
}
